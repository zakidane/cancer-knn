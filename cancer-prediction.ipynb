{
 "cells": [
  {
   "cell_type": "code",
   "execution_count": 1,
   "id": "fd050469",
   "metadata": {
    "_cell_guid": "b1076dfc-b9ad-4769-8c92-a6c4dae69d19",
    "_uuid": "8f2839f25d086af736a60e9eeb907d3b93b6e0e5",
    "execution": {
     "iopub.execute_input": "2025-08-09T22:49:57.128223Z",
     "iopub.status.busy": "2025-08-09T22:49:57.127959Z",
     "iopub.status.idle": "2025-08-09T22:50:02.053278Z",
     "shell.execute_reply": "2025-08-09T22:50:02.052362Z"
    },
    "papermill": {
     "duration": 4.930654,
     "end_time": "2025-08-09T22:50:02.054926",
     "exception": false,
     "start_time": "2025-08-09T22:49:57.124272",
     "status": "completed"
    },
    "tags": []
   },
   "outputs": [
    {
     "name": "stdout",
     "output_type": "stream",
     "text": [
      "/kaggle/input/knn-algorithm-dataset/KNNAlgorithmDataset.csv\n"
     ]
    }
   ],
   "source": [
    "# This Python 3 environment comes with many helpful analytics libraries installed\n",
    "# It is defined by the kaggle/python Docker image: https://github.com/kaggle/docker-python\n",
    "# For example, here's several helpful packages to load\n",
    "\n",
    "import numpy as np # linear algebra\n",
    "import pandas as pd # data processing, CSV file I/O (e.g. pd.read_csv)\n",
    "pd.plotting.register_matplotlib_converters()\n",
    "import matplotlib.pyplot as plt\n",
    "%matplotlib inline\n",
    "from sklearn.model_selection import train_test_split\n",
    "from sklearn.preprocessing import StandardScaler\n",
    "from sklearn.neighbors import KNeighborsClassifier\n",
    "from sklearn.metrics import classification_report, confusion_matrix, accuracy_score, recall_score\n",
    "\n",
    "\n",
    "\n",
    "# Input data files are available in the read-only \"../input/\" directory\n",
    "# For example, running this (by clicking run or pressing Shift+Enter) will list all files under the input directory\n",
    "\n",
    "import os\n",
    "import pandas as pd\n",
    "for dirname, _, filenames in os.walk('/kaggle/input'):\n",
    "    for filename in filenames:\n",
    "        print(os.path.join(dirname, filename))\n",
    "\n",
    "# You can write up to 20GB to the current directory (/kaggle/working/) that gets preserved as output when you create a version using \"Save & Run All\" \n",
    "# You can also write temporary files to /kaggle/temp/, but they won't be saved outside of the current session"
   ]
  },
  {
   "cell_type": "markdown",
   "id": "4ebf8305",
   "metadata": {
    "papermill": {
     "duration": 0.001949,
     "end_time": "2025-08-09T22:50:02.059802",
     "exception": false,
     "start_time": "2025-08-09T22:50:02.057853",
     "status": "completed"
    },
    "tags": []
   },
   "source": [
    "### Initial Data Exploration and Cleaning Dataset"
   ]
  },
  {
   "cell_type": "code",
   "execution_count": 2,
   "id": "c5bb8f0f",
   "metadata": {
    "execution": {
     "iopub.execute_input": "2025-08-09T22:50:02.065317Z",
     "iopub.status.busy": "2025-08-09T22:50:02.064477Z",
     "iopub.status.idle": "2025-08-09T22:50:02.189983Z",
     "shell.execute_reply": "2025-08-09T22:50:02.188864Z"
    },
    "papermill": {
     "duration": 0.12955,
     "end_time": "2025-08-09T22:50:02.191385",
     "exception": false,
     "start_time": "2025-08-09T22:50:02.061835",
     "status": "completed"
    },
    "tags": []
   },
   "outputs": [
    {
     "name": "stdout",
     "output_type": "stream",
     "text": [
      "<class 'pandas.core.frame.DataFrame'>\n",
      "RangeIndex: 569 entries, 0 to 568\n",
      "Data columns (total 33 columns):\n",
      " #   Column                   Non-Null Count  Dtype  \n",
      "---  ------                   --------------  -----  \n",
      " 0   id                       569 non-null    int64  \n",
      " 1   diagnosis                569 non-null    object \n",
      " 2   radius_mean              569 non-null    float64\n",
      " 3   texture_mean             569 non-null    float64\n",
      " 4   perimeter_mean           569 non-null    float64\n",
      " 5   area_mean                569 non-null    float64\n",
      " 6   smoothness_mean          569 non-null    float64\n",
      " 7   compactness_mean         569 non-null    float64\n",
      " 8   concavity_mean           569 non-null    float64\n",
      " 9   concave points_mean      569 non-null    float64\n",
      " 10  symmetry_mean            569 non-null    float64\n",
      " 11  fractal_dimension_mean   569 non-null    float64\n",
      " 12  radius_se                569 non-null    float64\n",
      " 13  texture_se               569 non-null    float64\n",
      " 14  perimeter_se             569 non-null    float64\n",
      " 15  area_se                  569 non-null    float64\n",
      " 16  smoothness_se            569 non-null    float64\n",
      " 17  compactness_se           569 non-null    float64\n",
      " 18  concavity_se             569 non-null    float64\n",
      " 19  concave points_se        569 non-null    float64\n",
      " 20  symmetry_se              569 non-null    float64\n",
      " 21  fractal_dimension_se     569 non-null    float64\n",
      " 22  radius_worst             569 non-null    float64\n",
      " 23  texture_worst            569 non-null    float64\n",
      " 24  perimeter_worst          569 non-null    float64\n",
      " 25  area_worst               569 non-null    float64\n",
      " 26  smoothness_worst         569 non-null    float64\n",
      " 27  compactness_worst        569 non-null    float64\n",
      " 28  concavity_worst          569 non-null    float64\n",
      " 29  concave points_worst     569 non-null    float64\n",
      " 30  symmetry_worst           569 non-null    float64\n",
      " 31  fractal_dimension_worst  569 non-null    float64\n",
      " 32  Unnamed: 32              0 non-null      float64\n",
      "dtypes: float64(31), int64(1), object(1)\n",
      "memory usage: 146.8+ KB\n",
      "None\n",
      "describe output: \n",
      "                  id  radius_mean  texture_mean  perimeter_mean    area_mean  \\\n",
      "count  5.690000e+02   569.000000    569.000000      569.000000   569.000000   \n",
      "mean   3.037183e+07    14.127292     19.289649       91.969033   654.889104   \n",
      "std    1.250206e+08     3.524049      4.301036       24.298981   351.914129   \n",
      "min    8.670000e+03     6.981000      9.710000       43.790000   143.500000   \n",
      "25%    8.692180e+05    11.700000     16.170000       75.170000   420.300000   \n",
      "50%    9.060240e+05    13.370000     18.840000       86.240000   551.100000   \n",
      "75%    8.813129e+06    15.780000     21.800000      104.100000   782.700000   \n",
      "max    9.113205e+08    28.110000     39.280000      188.500000  2501.000000   \n",
      "\n",
      "       smoothness_mean  compactness_mean  concavity_mean  concave points_mean  \\\n",
      "count       569.000000        569.000000      569.000000           569.000000   \n",
      "mean          0.096360          0.104341        0.088799             0.048919   \n",
      "std           0.014064          0.052813        0.079720             0.038803   \n",
      "min           0.052630          0.019380        0.000000             0.000000   \n",
      "25%           0.086370          0.064920        0.029560             0.020310   \n",
      "50%           0.095870          0.092630        0.061540             0.033500   \n",
      "75%           0.105300          0.130400        0.130700             0.074000   \n",
      "max           0.163400          0.345400        0.426800             0.201200   \n",
      "\n",
      "       symmetry_mean  ...  radius_worst  texture_worst  perimeter_worst  \\\n",
      "count     569.000000  ...    569.000000     569.000000       569.000000   \n",
      "mean        0.181162  ...     16.269190      25.677223       107.261213   \n",
      "std         0.027414  ...      4.833242       6.146258        33.602542   \n",
      "min         0.106000  ...      7.930000      12.020000        50.410000   \n",
      "25%         0.161900  ...     13.010000      21.080000        84.110000   \n",
      "50%         0.179200  ...     14.970000      25.410000        97.660000   \n",
      "75%         0.195700  ...     18.790000      29.720000       125.400000   \n",
      "max         0.304000  ...     36.040000      49.540000       251.200000   \n",
      "\n",
      "        area_worst  smoothness_worst  compactness_worst  concavity_worst  \\\n",
      "count   569.000000        569.000000         569.000000       569.000000   \n",
      "mean    880.583128          0.132369           0.254265         0.272188   \n",
      "std     569.356993          0.022832           0.157336         0.208624   \n",
      "min     185.200000          0.071170           0.027290         0.000000   \n",
      "25%     515.300000          0.116600           0.147200         0.114500   \n",
      "50%     686.500000          0.131300           0.211900         0.226700   \n",
      "75%    1084.000000          0.146000           0.339100         0.382900   \n",
      "max    4254.000000          0.222600           1.058000         1.252000   \n",
      "\n",
      "       concave points_worst  symmetry_worst  fractal_dimension_worst  \n",
      "count            569.000000      569.000000               569.000000  \n",
      "mean               0.114606        0.290076                 0.083946  \n",
      "std                0.065732        0.061867                 0.018061  \n",
      "min                0.000000        0.156500                 0.055040  \n",
      "25%                0.064930        0.250400                 0.071460  \n",
      "50%                0.099930        0.282200                 0.080040  \n",
      "75%                0.161400        0.317900                 0.092080  \n",
      "max                0.291000        0.663800                 0.207500  \n",
      "\n",
      "[8 rows x 31 columns]\n",
      "-------------------------------------\n",
      "columns:  ['id', 'diagnosis', 'radius_mean', 'texture_mean', 'perimeter_mean', 'area_mean', 'smoothness_mean', 'compactness_mean', 'concavity_mean', 'concave points_mean', 'symmetry_mean', 'fractal_dimension_mean', 'radius_se', 'texture_se', 'perimeter_se', 'area_se', 'smoothness_se', 'compactness_se', 'concavity_se', 'concave points_se', 'symmetry_se', 'fractal_dimension_se', 'radius_worst', 'texture_worst', 'perimeter_worst', 'area_worst', 'smoothness_worst', 'compactness_worst', 'concavity_worst', 'concave points_worst', 'symmetry_worst', 'fractal_dimension_worst']\n",
      "-------------------------------------\n",
      "unique diagnoses:  ['M' 'B']\n",
      "diagnosis counts diagnosis\n",
      "B    357\n",
      "M    212\n",
      "Name: count, dtype: int64\n",
      "Number of null values:  0\n",
      "ratio of null values:  0.0\n"
     ]
    }
   ],
   "source": [
    "df = pd.read_csv('/kaggle/input/knn-algorithm-dataset/KNNAlgorithmDataset.csv')\n",
    "print(df.info())\n",
    "df = df.drop('Unnamed: 32',axis=1)\n",
    "print('describe output: \\n', df.describe())\n",
    "print('-------------------------------------')\n",
    "print('columns: ', list(df.columns))\n",
    "print('-------------------------------------')\n",
    "print('unique diagnoses: ', df.diagnosis.unique())\n",
    "print('diagnosis counts', df.diagnosis.value_counts())\n",
    "\n",
    "df['diagnosis'] = df['diagnosis'].map({'M':1, 'B':0})\n",
    "\n",
    "print(\"Number of null values: \", df['diagnosis'].isnull().sum())\n",
    "print(\"ratio of null values: \", df.diagnosis.isnull().sum()/df.diagnosis.count())"
   ]
  },
  {
   "cell_type": "markdown",
   "id": "5b17b558",
   "metadata": {
    "papermill": {
     "duration": 0.002204,
     "end_time": "2025-08-09T22:50:02.196007",
     "exception": false,
     "start_time": "2025-08-09T22:50:02.193803",
     "status": "completed"
    },
    "tags": []
   },
   "source": [
    "### Separating Training and Test, Predicting And Errors"
   ]
  },
  {
   "cell_type": "code",
   "execution_count": 3,
   "id": "26b727f8",
   "metadata": {
    "execution": {
     "iopub.execute_input": "2025-08-09T22:50:02.201193Z",
     "iopub.status.busy": "2025-08-09T22:50:02.200786Z",
     "iopub.status.idle": "2025-08-09T22:50:02.347511Z",
     "shell.execute_reply": "2025-08-09T22:50:02.346585Z"
    },
    "papermill": {
     "duration": 0.150492,
     "end_time": "2025-08-09T22:50:02.348591",
     "exception": false,
     "start_time": "2025-08-09T22:50:02.198099",
     "status": "completed"
    },
    "tags": []
   },
   "outputs": [
    {
     "name": "stdout",
     "output_type": "stream",
     "text": [
      "does y have null values?  0\n",
      "Accuracy:  0.9385964912280702\n",
      "\n",
      "Confusion Matrix:\n",
      " [[71  1]\n",
      " [ 6 36]]\n",
      "\n",
      "Classification Report:\n",
      "               precision    recall  f1-score   support\n",
      "\n",
      "           0       0.92      0.99      0.95        72\n",
      "           1       0.97      0.86      0.91        42\n",
      "\n",
      "    accuracy                           0.94       114\n",
      "   macro avg       0.95      0.92      0.93       114\n",
      "weighted avg       0.94      0.94      0.94       114\n",
      "\n"
     ]
    }
   ],
   "source": [
    "\n",
    "\n",
    "X = df.drop('diagnosis',axis=1)\n",
    "y = df['diagnosis']\n",
    "print(\"does y have null values? \", y.isnull().sum())\n",
    "\n",
    "X_train, X_test, y_train, y_test = train_test_split(X,y, test_size=0.2, random_state=42, stratify=y)\n",
    "\n",
    "scaler = StandardScaler()\n",
    "X_train = scaler.fit_transform(X_train)\n",
    "X_test = scaler.transform(X_test)\n",
    "\n",
    "knn = KNeighborsClassifier(n_neighbors=3)\n",
    "knn.fit(X_train, y_train)\n",
    "\n",
    "y_pred = knn.predict(X_test)\n",
    "\n",
    "print(\"Accuracy: \", accuracy_score(y_test, y_pred))\n",
    "print(\"\\nConfusion Matrix:\\n\", confusion_matrix(y_test, y_pred))\n",
    "print(\"\\nClassification Report:\\n\", classification_report(y_test, y_pred))\n"
   ]
  },
  {
   "cell_type": "markdown",
   "id": "8afbc9c0",
   "metadata": {
    "papermill": {
     "duration": 0.002244,
     "end_time": "2025-08-09T22:50:02.353315",
     "exception": false,
     "start_time": "2025-08-09T22:50:02.351071",
     "status": "completed"
    },
    "tags": []
   },
   "source": [
    "Initially, with k = 3, and using all features, an accuracy of 93.8% is achieved. **Six** people would inaccurately be told they don't have cancer. So we want to minimize the recall for label '1'"
   ]
  },
  {
   "cell_type": "markdown",
   "id": "405346eb",
   "metadata": {
    "papermill": {
     "duration": 0.002221,
     "end_time": "2025-08-09T22:50:02.358012",
     "exception": false,
     "start_time": "2025-08-09T22:50:02.355791",
     "status": "completed"
    },
    "tags": []
   },
   "source": [
    "### Optimizing the k value"
   ]
  },
  {
   "cell_type": "markdown",
   "id": "a7f8ecc6",
   "metadata": {
    "papermill": {
     "duration": 0.002387,
     "end_time": "2025-08-09T22:50:02.362806",
     "exception": false,
     "start_time": "2025-08-09T22:50:02.360419",
     "status": "completed"
    },
    "tags": []
   },
   "source": [
    "Experiment with several k values to see how it affects recall"
   ]
  },
  {
   "cell_type": "code",
   "execution_count": 4,
   "id": "157c983e",
   "metadata": {
    "execution": {
     "iopub.execute_input": "2025-08-09T22:50:02.368796Z",
     "iopub.status.busy": "2025-08-09T22:50:02.368540Z",
     "iopub.status.idle": "2025-08-09T22:50:02.561078Z",
     "shell.execute_reply": "2025-08-09T22:50:02.560186Z"
    },
    "papermill": {
     "duration": 0.197117,
     "end_time": "2025-08-09T22:50:02.562504",
     "exception": false,
     "start_time": "2025-08-09T22:50:02.365387",
     "status": "completed"
    },
    "tags": []
   },
   "outputs": [
    {
     "name": "stdout",
     "output_type": "stream",
     "text": [
      "K:  1       Recall:  0.8809523809523809            Accuracy:  0.9298245614035088\n",
      "K:  3       Recall:  0.8571428571428571            Accuracy:  0.9385964912280702\n",
      "K:  5       Recall:  0.9047619047619048            Accuracy:  0.956140350877193\n",
      "K:  7       Recall:  0.9047619047619048            Accuracy:  0.956140350877193\n",
      "K:  9       Recall:  0.8809523809523809            Accuracy:  0.9473684210526315\n",
      "K:  11       Recall:  0.8809523809523809            Accuracy:  0.9473684210526315\n",
      "K:  13       Recall:  0.8809523809523809            Accuracy:  0.9473684210526315\n",
      "K:  15       Recall:  0.8809523809523809            Accuracy:  0.9473684210526315\n",
      "K:  17       Recall:  0.8571428571428571            Accuracy:  0.9385964912280702\n",
      "K:  19       Recall:  0.8571428571428571            Accuracy:  0.9385964912280702\n",
      "K:  21       Recall:  0.8571428571428571            Accuracy:  0.9385964912280702\n",
      "K:  23       Recall:  0.8571428571428571            Accuracy:  0.9385964912280702\n",
      "Best k value:  5\n",
      "Best recall value:  0.9047619047619048\n",
      "Accuracy corresponding to best recall:  0.956140350877193\n"
     ]
    }
   ],
   "source": [
    "#fill up k values\n",
    "k_values = []\n",
    "for i in range(1,25,2):\n",
    "    k_values.append(i)\n",
    "best_recall = 0\n",
    "best_k = 0\n",
    "accuracy_for_best_recall = 0\n",
    "for k in k_values:\n",
    "    X_train, X_test, y_train, y_test = train_test_split(X,y, test_size=0.2, random_state=42, stratify=y)\n",
    "\n",
    "    scaler = StandardScaler()\n",
    "    X_train = scaler.fit_transform(X_train)\n",
    "    X_test = scaler.transform(X_test)\n",
    "    \n",
    "    knn = KNeighborsClassifier(n_neighbors=k)\n",
    "    knn.fit(X_train, y_train)\n",
    "    \n",
    "    y_pred = knn.predict(X_test)\n",
    "\n",
    "    recall_m = recall_score(y_test, y_pred, pos_label=1)\n",
    "    accuracy = accuracy_score(y_test, y_pred)\n",
    "    print('K: ', k, '      Recall: ', recall_m, '           Accuracy: ', accuracy)\n",
    "\n",
    "    \n",
    "    if recall_m > best_recall:\n",
    "        best_recall = recall_m\n",
    "        best_k = k\n",
    "        accuracy_for_best_recall = accuracy\n",
    "        \n",
    "print('Best k value: ', best_k)\n",
    "print('Best recall value: ', best_recall)\n",
    "print('Accuracy corresponding to best recall: ', accuracy_for_best_recall)\n",
    "        \n",
    "    "
   ]
  },
  {
   "cell_type": "markdown",
   "id": "6ab86890",
   "metadata": {
    "papermill": {
     "duration": 0.002666,
     "end_time": "2025-08-09T22:50:02.568299",
     "exception": false,
     "start_time": "2025-08-09T22:50:02.565633",
     "status": "completed"
    },
    "tags": []
   },
   "source": []
  },
  {
   "cell_type": "markdown",
   "id": "2c67e100",
   "metadata": {
    "papermill": {
     "duration": 0.00253,
     "end_time": "2025-08-09T22:50:02.573469",
     "exception": false,
     "start_time": "2025-08-09T22:50:02.570939",
     "status": "completed"
    },
    "tags": []
   },
   "source": [
    "So it looks like k = 5, and k = 7 give the best recall, and incidentally the best accuracy"
   ]
  },
  {
   "cell_type": "code",
   "execution_count": null,
   "id": "90d5dbc1",
   "metadata": {
    "papermill": {
     "duration": 0.002661,
     "end_time": "2025-08-09T22:50:02.578884",
     "exception": false,
     "start_time": "2025-08-09T22:50:02.576223",
     "status": "completed"
    },
    "tags": []
   },
   "outputs": [],
   "source": []
  },
  {
   "cell_type": "code",
   "execution_count": null,
   "id": "53b0d95c",
   "metadata": {
    "papermill": {
     "duration": 0.002559,
     "end_time": "2025-08-09T22:50:02.584127",
     "exception": false,
     "start_time": "2025-08-09T22:50:02.581568",
     "status": "completed"
    },
    "tags": []
   },
   "outputs": [],
   "source": []
  }
 ],
 "metadata": {
  "kaggle": {
   "accelerator": "nvidiaTeslaT4",
   "dataSources": [
    {
     "datasetId": 757364,
     "sourceId": 1308267,
     "sourceType": "datasetVersion"
    }
   ],
   "dockerImageVersionId": 31090,
   "isGpuEnabled": true,
   "isInternetEnabled": true,
   "language": "python",
   "sourceType": "notebook"
  },
  "kernelspec": {
   "display_name": "Python 3",
   "language": "python",
   "name": "python3"
  },
  "language_info": {
   "codemirror_mode": {
    "name": "ipython",
    "version": 3
   },
   "file_extension": ".py",
   "mimetype": "text/x-python",
   "name": "python",
   "nbconvert_exporter": "python",
   "pygments_lexer": "ipython3",
   "version": "3.11.13"
  },
  "papermill": {
   "default_parameters": {},
   "duration": 12.17079,
   "end_time": "2025-08-09T22:50:03.103395",
   "environment_variables": {},
   "exception": null,
   "input_path": "__notebook__.ipynb",
   "output_path": "__notebook__.ipynb",
   "parameters": {},
   "start_time": "2025-08-09T22:49:50.932605",
   "version": "2.6.0"
  }
 },
 "nbformat": 4,
 "nbformat_minor": 5
}
